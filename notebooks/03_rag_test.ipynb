{
 "cells": [
  {
   "cell_type": "code",
   "execution_count": 1,
   "id": "601718d3",
   "metadata": {},
   "outputs": [
    {
     "name": "stderr",
     "output_type": "stream",
     "text": [
      "c:\\Users\\adity\\OneDrive\\Documents\\GitHub\\research-rag\\.venv\\Lib\\site-packages\\tqdm\\auto.py:21: TqdmWarning: IProgress not found. Please update jupyter and ipywidgets. See https://ipywidgets.readthedocs.io/en/stable/user_install.html\n",
      "  from .autonotebook import tqdm as notebook_tqdm\n"
     ]
    }
   ],
   "source": [
    "import sys, os\n",
    "sys.path.append(os.path.abspath(\"..\"))\n",
    "\n",
    "from src.rag_chain import build_qa_chain, ask_question"
   ]
  },
  {
   "cell_type": "code",
   "execution_count": 2,
   "id": "3c7ce8d9",
   "metadata": {},
   "outputs": [
    {
     "name": "stderr",
     "output_type": "stream",
     "text": [
      "c:\\Users\\adity\\OneDrive\\Documents\\GitHub\\research-rag\\src\\embed_store.py:43: LangChainDeprecationWarning: The class `HuggingFaceEmbeddings` was deprecated in LangChain 0.2.2 and will be removed in 1.0. An updated version of the class exists in the :class:`~langchain-huggingface package and should be used instead. To use it run `pip install -U :class:`~langchain-huggingface` and import as `from :class:`~langchain_huggingface import HuggingFaceEmbeddings``.\n",
      "  embeddings = HuggingFaceEmbeddings(\n",
      "c:\\Users\\adity\\OneDrive\\Documents\\GitHub\\research-rag\\.venv\\Lib\\site-packages\\huggingface_hub\\file_download.py:143: UserWarning: `huggingface_hub` cache-system uses symlinks by default to efficiently store duplicated files but your machine does not support them in C:\\Users\\adity\\.cache\\huggingface\\hub\\models--google--flan-t5-base. Caching files will still work but in a degraded version that might require more space on your disk. This warning can be disabled by setting the `HF_HUB_DISABLE_SYMLINKS_WARNING` environment variable. For more details, see https://huggingface.co/docs/huggingface_hub/how-to-cache#limitations.\n",
      "To support symlinks on Windows, you either need to activate Developer Mode or to run Python as an administrator. In order to activate developer mode, see this article: https://docs.microsoft.com/en-us/windows/apps/get-started/enable-your-device-for-development\n",
      "  warnings.warn(message)\n",
      "Xet Storage is enabled for this repo, but the 'hf_xet' package is not installed. Falling back to regular HTTP download. For better performance, install the package with: `pip install huggingface_hub[hf_xet]` or `pip install hf_xet`\n",
      "Xet Storage is enabled for this repo, but the 'hf_xet' package is not installed. Falling back to regular HTTP download. For better performance, install the package with: `pip install huggingface_hub[hf_xet]` or `pip install hf_xet`\n",
      "Device set to use cpu\n",
      "c:\\Users\\adity\\OneDrive\\Documents\\GitHub\\research-rag\\src\\rag_chain.py:14: LangChainDeprecationWarning: The class `HuggingFacePipeline` was deprecated in LangChain 0.0.37 and will be removed in 1.0. An updated version of the class exists in the :class:`~langchain-huggingface package and should be used instead. To use it run `pip install -U :class:`~langchain-huggingface` and import as `from :class:`~langchain_huggingface import HuggingFacePipeline``.\n",
      "  return HuggingFacePipeline(pipeline=pipe)\n"
     ]
    }
   ],
   "source": [
    "qa_chain = build_qa_chain(vectorstore_path = \"../vectorstore\")"
   ]
  },
  {
   "cell_type": "code",
   "execution_count": 3,
   "id": "73367b80",
   "metadata": {},
   "outputs": [],
   "source": [
    "questions = [\n",
    "    \"Summarize the key contributions of this research paper.\",\n",
    "    \"What methodology was used in this study?\",\n",
    "    \"What future work do the authors suggest?\"\n",
    "]"
   ]
  },
  {
   "cell_type": "code",
   "execution_count": 4,
   "id": "974c8c48",
   "metadata": {},
   "outputs": [
    {
     "name": "stderr",
     "output_type": "stream",
     "text": [
      "c:\\Users\\adity\\OneDrive\\Documents\\GitHub\\research-rag\\src\\rag_chain.py:50: LangChainDeprecationWarning: The method `Chain.run` was deprecated in langchain 0.1.0 and will be removed in 1.0. Use :meth:`~invoke` instead.\n",
      "  response = qa_chain.run(query)\n"
     ]
    },
    {
     "name": "stdout",
     "output_type": "stream",
     "text": [
      "\n",
      "Q: Summarize the key contributions of this research paper.\n"
     ]
    },
    {
     "name": "stderr",
     "output_type": "stream",
     "text": [
      "Token indices sequence length is longer than the specified maximum sequence length for this model (1115 > 512). Running this sequence through the model will result in indexing errors\n"
     ]
    },
    {
     "name": "stdout",
     "output_type": "stream",
     "text": [
      "A: XAI based few shots learning feature fusion technique for multi-classifying thoracic diseases using medical imaging Article in Multimedia Tools and Applications  October 2024 DOI: 10.1007/s11042-024-20327-3 CITATIONS 0 READS 221 6 authors, including: Yogesh Bhosale Birla Institute of Technology, Mesra 20 PUBLICATIONS 372 CITATIONS SEE PROFILE K Sridhar Patnaik Birla Institute of Technology, Mesra 46 PUBLICATIONS 608 CITATIONS SEE PROFILE Shrinivas Zanwar Chatrapati Shahu Maharaj Shikshan Sanstha 20 PUBLICATIONS 185 CITATIONS SEE PROFILE Saket Kumar Singh Birla Institute of Technology, Mesra 4 PUBLICATIONS 2 CITATIONS SEE PROFILE \n",
      "\n",
      "\n",
      "Q: What methodology was used in this study?\n",
      "A: XAI based few shots learning feature fusion technique for multi-classifying thoracic diseases using medical imaging Article in Multimedia Tools and Applications  October 2024 DOI: 10.1007/s11042-024-20327-3 CITATIONS 0 READS 221 6 authors, including: Yogesh Bhosale Birla Institute of Technology, Mesra 20 PUBLICATIONS 372 CITATIONS SEE PROFILE K Sridhar Patnaik Birla Institute of Technology, Mesra 46 PUBLICATIONS 608 CITATIONS SEE PROFILE Shrinivas Zanwar Chatrapati Shahu Maharaj Shikshan Sanstha 20 PUBLICATIONS 185 CITATIONS SEE PROFILE Saket Kumar Singh Birla Institute of Technology, Mesra 4 PUBLICATIONS 2 CITATIONS SEE PROFILE \n",
      "\n",
      "\n",
      "Q: What future work do the authors suggest?\n",
      "A: Artificial intelligence as an innovative approach for investment in the future of healthcare in Egypt. Clinical Nursing Studies, 8(3), 1. https://doi.org/10.31354/globalce.v4i3.142 14. Taie, E. S. (2020). Artificial intelligence as an innovative approach for investment in the future of healthcare in Egypt. Clinical Nursing Studies, 8(3), 1. https://doi.org/10.31354/globalce.v4i3.142 15. \n",
      "\n"
     ]
    }
   ],
   "source": [
    "for q in questions:\n",
    "    print(f\"\\nQ: {q}\")\n",
    "    print(f\"A: {ask_question(q, qa_chain)} \\n\")"
   ]
  }
 ],
 "metadata": {
  "kernelspec": {
   "display_name": ".venv",
   "language": "python",
   "name": "python3"
  },
  "language_info": {
   "codemirror_mode": {
    "name": "ipython",
    "version": 3
   },
   "file_extension": ".py",
   "mimetype": "text/x-python",
   "name": "python",
   "nbconvert_exporter": "python",
   "pygments_lexer": "ipython3",
   "version": "3.13.7"
  }
 },
 "nbformat": 4,
 "nbformat_minor": 5
}
