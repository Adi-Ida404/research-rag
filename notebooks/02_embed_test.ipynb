{
 "cells": [
  {
   "cell_type": "code",
   "execution_count": 1,
   "id": "d1120025",
   "metadata": {},
   "outputs": [],
   "source": [
    "import sys, os\n",
    "sys.path.append(os.path.abspath(\"..\"))"
   ]
  },
  {
   "cell_type": "code",
   "execution_count": 2,
   "id": "bca1a960",
   "metadata": {},
   "outputs": [],
   "source": [
    "from src.ingest import load_pdfs_from_folder\n",
    "from src.embed_store import build_vectorstore, load_vectorstore"
   ]
  },
  {
   "cell_type": "code",
   "execution_count": 3,
   "id": "ca867289",
   "metadata": {},
   "outputs": [
    {
     "name": "stdout",
     "output_type": "stream",
     "text": [
      "Loaded 162 documents.\n"
     ]
    }
   ],
   "source": [
    "docs = load_pdfs_from_folder(\"../docs/\")\n",
    "print(f\"Loaded {len(docs)} documents.\")"
   ]
  },
  {
   "cell_type": "code",
   "execution_count": 4,
   "id": "93c48ef6",
   "metadata": {},
   "outputs": [
    {
     "name": "stderr",
     "output_type": "stream",
     "text": [
      "c:\\Users\\adity\\OneDrive\\Documents\\GitHub\\research-rag\\src\\embed_store.py:23: LangChainDeprecationWarning: The class `HuggingFaceEmbeddings` was deprecated in LangChain 0.2.2 and will be removed in 1.0. An updated version of the class exists in the :class:`~langchain-huggingface package and should be used instead. To use it run `pip install -U :class:`~langchain-huggingface` and import as `from :class:`~langchain_huggingface import HuggingFaceEmbeddings``.\n",
      "  embeddings = HuggingFaceEmbeddings(\n",
      "c:\\Users\\adity\\OneDrive\\Documents\\GitHub\\research-rag\\.venv\\Lib\\site-packages\\tqdm\\auto.py:21: TqdmWarning: IProgress not found. Please update jupyter and ipywidgets. See https://ipywidgets.readthedocs.io/en/stable/user_install.html\n",
      "  from .autonotebook import tqdm as notebook_tqdm\n"
     ]
    },
    {
     "name": "stdout",
     "output_type": "stream",
     "text": [
      "Vectorstore created and saved.\n"
     ]
    }
   ],
   "source": [
    "vectorstore = build_vectorstore(docs, persist_path=\"../vectorstore\")\n",
    "print(\"Vectorstore created and saved.\")"
   ]
  },
  {
   "cell_type": "code",
   "execution_count": 5,
   "id": "45759131",
   "metadata": {},
   "outputs": [
    {
     "name": "stdout",
     "output_type": "stream",
     "text": [
      "Vectorstore loaded successfully.\n"
     ]
    }
   ],
   "source": [
    "vs = load_vectorstore(persist_path=\"../vectorstore\")\n",
    "print(\"Vectorstore loaded successfully.\")"
   ]
  },
  {
   "cell_type": "code",
   "execution_count": 7,
   "id": "966ac44e",
   "metadata": {},
   "outputs": [
    {
     "name": "stdout",
     "output_type": "stream",
     "text": [
      "\n",
      " Retrieved Results  \n",
      "\n",
      "[1] provided valuable insights that enriched the perspectives presented in this review. They also \n",
      "acknowledged the institutional support from Universitas Harapan Bangsa, wh ich enabled \n",
      "access to relevant literature and resources. The authors were grateful to the anonymous \n",
      "reviewers for their construc...\n",
      "\n",
      "[2] See discussions, stats, and author profiles for this publication at: https://www.researchgate.net/publication/385009462\n",
      "Thoracic-net: Explainable artiﬁcial intelligence (XAI) based few shots\n",
      "learning feature fusion technique for multi-classifying thoracic diseases\n",
      "using medical imaging\n",
      "Article  in  ...\n",
      "\n"
     ]
    }
   ],
   "source": [
    "query = \"What is the main contribution of this research paper?\"\n",
    "results = vs.similarity_search(query, k=2)\n",
    "\n",
    "print(\"\\n Retrieved Results  \\n\")\n",
    "for i, res in enumerate(results, 1):\n",
    "    print(f\"[{i}] {res.page_content[:300]}...\\n\")"
   ]
  }
 ],
 "metadata": {
  "kernelspec": {
   "display_name": ".venv",
   "language": "python",
   "name": "python3"
  },
  "language_info": {
   "codemirror_mode": {
    "name": "ipython",
    "version": 3
   },
   "file_extension": ".py",
   "mimetype": "text/x-python",
   "name": "python",
   "nbconvert_exporter": "python",
   "pygments_lexer": "ipython3",
   "version": "3.13.7"
  }
 },
 "nbformat": 4,
 "nbformat_minor": 5
}
