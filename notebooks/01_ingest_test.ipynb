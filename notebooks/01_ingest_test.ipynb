{
 "cells": [
  {
   "cell_type": "code",
   "execution_count": 1,
   "id": "6e75f5bb",
   "metadata": {},
   "outputs": [],
   "source": [
    "import sys\n",
    "import os"
   ]
  },
  {
   "cell_type": "code",
   "execution_count": 2,
   "id": "c3e05cb4",
   "metadata": {},
   "outputs": [],
   "source": [
    "sys.path.append(os.path.abspath(\"..\"))\n",
    "from src.ingest import load_single_pdf, load_pdfs_from_folder"
   ]
  },
  {
   "cell_type": "code",
   "execution_count": 3,
   "id": "3e42c703",
   "metadata": {},
   "outputs": [
    {
     "name": "stdout",
     "output_type": "stream",
     "text": [
      "Loaded single PDF 31 chunks from the PDF\n"
     ]
    }
   ],
   "source": [
    "single_doc = load_single_pdf(\"../docs/Reference Paper 1.pdf\")\n",
    "print(f\"Loaded single PDF {len(single_doc)} chunks from the PDF\")"
   ]
  },
  {
   "cell_type": "code",
   "execution_count": 4,
   "id": "459de1fd",
   "metadata": {},
   "outputs": [
    {
     "data": {
      "text/plain": [
       "'Citation: Ghnemat, R.; Alodibat, S.;\\nAbu Al-Haija, Q. Explainable\\nArtiﬁcial Intelligence (XAI) for Deep\\nLearning Based Medical Imaging\\nClassiﬁcation. J. Imaging2023, 9, 177.\\nhttps://doi.org/10.3390/\\njimaging9090177\\nAcademic Editors: Elena Casiraghi,\\nAntónio Cunha, Paulo A.C. Salgado\\nand Teresa Paula Perdicoúlis\\nReceived: 6 May 2023\\nRevised: 19 August 2023\\nAccepted: 23 August 2023\\nPublished: 30 August 2023\\nCopyright: © 2023 by the authors.\\nLicensee MDPI, Basel, Switzerland.\\nThis article is an ope'"
      ]
     },
     "execution_count": 4,
     "metadata": {},
     "output_type": "execute_result"
    }
   ],
   "source": [
    "single_doc[0].page_content[:500]"
   ]
  },
  {
   "cell_type": "code",
   "execution_count": 5,
   "id": "f742ed41",
   "metadata": {},
   "outputs": [
    {
     "name": "stdout",
     "output_type": "stream",
     "text": [
      "Loaded 162 chunks from the PDFs\n"
     ]
    }
   ],
   "source": [
    "all_docs = load_pdfs_from_folder(\"../docs\")\n",
    "print(f\"Loaded {len(all_docs)} chunks from the PDFs\")"
   ]
  },
  {
   "cell_type": "code",
   "execution_count": 6,
   "id": "d487f4e9",
   "metadata": {},
   "outputs": [
    {
     "data": {
      "text/plain": [
       "'642 P. Afshar, S. Heidarian, F. Naderkhani et al. / Pattern Recognition Letters 138 (2020) 638–643 \\nTable 2 \\nDescription of the external X-ray images dataset used for pre-training COVID-CAPS. \\nFinal Category Initial Categories Number of Images \\nNo Findings No Findings 60361 \\nTumors Inﬁltration, Mass, Nodule 16103 \\nPleural Diseases Effusion, Pleural Thickening, Pneumothorax 8042 \\nLung Infection Consolidation, Pneumonia 1668 \\nOthers Atelectasis, Cardiomegaly, Edema, Emphysema, Fibrosis, Hernia 814'"
      ]
     },
     "execution_count": 6,
     "metadata": {},
     "output_type": "execute_result"
    }
   ],
   "source": [
    "all_docs[5].page_content[:500]"
   ]
  }
 ],
 "metadata": {
  "kernelspec": {
   "display_name": ".venv",
   "language": "python",
   "name": "python3"
  },
  "language_info": {
   "codemirror_mode": {
    "name": "ipython",
    "version": 3
   },
   "file_extension": ".py",
   "mimetype": "text/x-python",
   "name": "python",
   "nbconvert_exporter": "python",
   "pygments_lexer": "ipython3",
   "version": "3.13.7"
  }
 },
 "nbformat": 4,
 "nbformat_minor": 5
}
